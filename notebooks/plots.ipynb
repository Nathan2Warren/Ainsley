{
 "cells": [
  {
   "cell_type": "code",
   "execution_count": 16,
   "metadata": {},
   "outputs": [],
   "source": [
    "import pandas as pd \n",
    "import numpy as np\n",
    "import dash \n",
    "import plotly\n",
    "import plotly.express as px\n",
    "import plotly.graph_objects as go\n",
    "\n",
    "import data_fetcher as f"
   ]
  },
  {
   "cell_type": "code",
   "execution_count": 17,
   "metadata": {},
   "outputs": [],
   "source": [
    "profile_ids = f.GraphQLClient.get_existing_profile_ids()"
   ]
  },
  {
   "cell_type": "code",
   "execution_count": 32,
   "metadata": {},
   "outputs": [],
   "source": [
    "df = f.GraphQLClient.get_publications(profile_id='0x3b', normalize=True)"
   ]
  },
  {
   "cell_type": "code",
   "execution_count": 33,
   "metadata": {},
   "outputs": [
    {
     "data": {
      "text/plain": [
       "Index(['__typename', 'id', 'createdAt', 'referenceModule', 'appId',\n",
       "       'profile.id', 'profile.name', 'profile.bio', 'profile.location',\n",
       "       'profile.website', 'profile.twitterUrl', 'profile.handle',\n",
       "       'profile.picture', 'profile.coverPicture', 'profile.ownedBy',\n",
       "       'profile.depatcher', 'profile.stats.totalFollowers',\n",
       "       'profile.stats.totalFollowing', 'profile.stats.totalPosts',\n",
       "       'profile.stats.totalComments', 'profile.stats.totalMirrors',\n",
       "       'profile.stats.totalPublications', 'profile.stats.totalCollects',\n",
       "       'profile.followModule', 'stats.totalAmountOfMirrors',\n",
       "       'stats.totalAmountOfCollects', 'stats.totalAmountOfComments',\n",
       "       'metadata.name', 'metadata.description', 'metadata.content',\n",
       "       'metadata.media', 'metadata.attributes', 'collectModule.__typename',\n",
       "       'collectModule.type'],\n",
       "      dtype='object')"
      ]
     },
     "execution_count": 33,
     "metadata": {},
     "output_type": "execute_result"
    }
   ],
   "source": [
    "df.columns"
   ]
  },
  {
   "cell_type": "code",
   "execution_count": 43,
   "metadata": {},
   "outputs": [],
   "source": [
    "profile_revenues = []\n",
    "for idx,i in enumerate(profile_ids):\n",
    "    if len(f.GraphQLClient.get_profile_revenues(profile_ids=i, normalize=True)) > 0:\n",
    "        profile_revenues.append(i)"
   ]
  },
  {
   "cell_type": "code",
   "execution_count": 44,
   "metadata": {},
   "outputs": [
    {
     "data": {
      "text/plain": [
       "['0x12', '0x13']"
      ]
     },
     "execution_count": 44,
     "metadata": {},
     "output_type": "execute_result"
    }
   ],
   "source": [
    "profile_revenues"
   ]
  },
  {
   "cell_type": "code",
   "execution_count": 61,
   "metadata": {},
   "outputs": [
    {
     "data": {
      "text/html": [
       "<div>\n",
       "<style scoped>\n",
       "    .dataframe tbody tr th:only-of-type {\n",
       "        vertical-align: middle;\n",
       "    }\n",
       "\n",
       "    .dataframe tbody tr th {\n",
       "        vertical-align: top;\n",
       "    }\n",
       "\n",
       "    .dataframe thead th {\n",
       "        text-align: right;\n",
       "    }\n",
       "</style>\n",
       "<table border=\"1\" class=\"dataframe\">\n",
       "  <thead>\n",
       "    <tr style=\"text-align: right;\">\n",
       "      <th></th>\n",
       "      <th>protocolFee</th>\n",
       "      <th>publication.id</th>\n",
       "      <th>earnings.asset.name</th>\n",
       "      <th>earnings.asset.symbol</th>\n",
       "      <th>earnings.asset.decimals</th>\n",
       "      <th>earnings.asset.address</th>\n",
       "      <th>earnings.value</th>\n",
       "    </tr>\n",
       "  </thead>\n",
       "  <tbody>\n",
       "    <tr>\n",
       "      <th>0</th>\n",
       "      <td>0</td>\n",
       "      <td>0x12-0x05</td>\n",
       "      <td>Wrapped Matic</td>\n",
       "      <td>WMATIC</td>\n",
       "      <td>18</td>\n",
       "      <td>0x9c3C9283D3e44854697Cd22D3Faa240Cfb032889</td>\n",
       "      <td>0.0001</td>\n",
       "    </tr>\n",
       "  </tbody>\n",
       "</table>\n",
       "</div>"
      ],
      "text/plain": [
       "   protocolFee publication.id earnings.asset.name earnings.asset.symbol  \\\n",
       "0            0      0x12-0x05       Wrapped Matic                WMATIC   \n",
       "\n",
       "   earnings.asset.decimals                      earnings.asset.address  \\\n",
       "0                       18  0x9c3C9283D3e44854697Cd22D3Faa240Cfb032889   \n",
       "\n",
       "  earnings.value  \n",
       "0         0.0001  "
      ]
     },
     "execution_count": 61,
     "metadata": {},
     "output_type": "execute_result"
    }
   ],
   "source": [
    "pd.json_normalize(f.GraphQLClient.get_profile_revenues(profile_ids=profile_revenues[0])[0][0])"
   ]
  },
  {
   "cell_type": "code",
   "execution_count": 63,
   "metadata": {},
   "outputs": [
    {
     "ename": "TypeError",
     "evalue": "get_publication_revenue() missing 1 required positional argument: 'publication_id'",
     "output_type": "error",
     "traceback": [
      "\u001b[0;31m---------------------------------------------------------------------------\u001b[0m",
      "\u001b[0;31mTypeError\u001b[0m                                 Traceback (most recent call last)",
      "Input \u001b[0;32mIn [63]\u001b[0m, in \u001b[0;36m<cell line: 1>\u001b[0;34m()\u001b[0m\n\u001b[0;32m----> 1\u001b[0m pd\u001b[38;5;241m.\u001b[39mjson_normalize(\u001b[43mf\u001b[49m\u001b[38;5;241;43m.\u001b[39;49m\u001b[43mGraphQLClient\u001b[49m\u001b[38;5;241;43m.\u001b[39;49m\u001b[43mget_publication_revenue\u001b[49m\u001b[43m(\u001b[49m\u001b[43m)\u001b[49m)\n",
      "\u001b[0;31mTypeError\u001b[0m: get_publication_revenue() missing 1 required positional argument: 'publication_id'"
     ]
    }
   ],
   "source": [
    "pd.json_normalize(f.GraphQLClient.get_publication_revenue())"
   ]
  },
  {
   "cell_type": "code",
   "execution_count": null,
   "metadata": {},
   "outputs": [],
   "source": [
    "df = pd.json_normalize(f.GraphQLClient.get_publications(profile_id='0x3b', normalize=True))\n",
    "df[\"createdAt\"] = pd.to_datetime(df[\"createdAt\"])\n",
    "counts = df.groupby([pd.Grouper(key=\"createdAt\", freq=\"D\")]).size()\n",
    "\n",
    "fig = go.Figure([go.Bar(x=df[\"createdAt\"], y=counts)])\n",
    "fig.update_layout(\n",
    "    template=\"simple_white\",\n",
    "    margin=dict(t=35, b=0, l=0, r=0),\n",
    ")\n",
    "fig.layout.plot_bgcolor = \"#fff\"\n",
    "fig.layout.paper_bgcolor = \"#fff\""
   ]
  },
  {
   "cell_type": "code",
   "execution_count": null,
   "metadata": {},
   "outputs": [],
   "source": []
  }
 ],
 "metadata": {
  "interpreter": {
   "hash": "50238c811ec4226513e06a1843253599ffcd1c6034cdb19e717814a4e9bbdb2e"
  },
  "kernelspec": {
   "display_name": "ainsley",
   "language": "python",
   "name": "ainsley"
  },
  "language_info": {
   "codemirror_mode": {
    "name": "ipython",
    "version": 3
   },
   "file_extension": ".py",
   "mimetype": "text/x-python",
   "name": "python",
   "nbconvert_exporter": "python",
   "pygments_lexer": "ipython3",
   "version": "3.8.12"
  }
 },
 "nbformat": 4,
 "nbformat_minor": 4
}
